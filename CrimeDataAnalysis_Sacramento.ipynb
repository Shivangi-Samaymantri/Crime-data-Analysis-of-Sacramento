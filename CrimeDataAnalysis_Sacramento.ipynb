{
 "cells": [
  {
   "cell_type": "markdown",
   "id": "73ceff50",
   "metadata": {},
   "source": [
    "## Sacramento crime January 2006"
   ]
  },
  {
   "cell_type": "code",
   "execution_count": null,
   "id": "b2f3a12b",
   "metadata": {},
   "outputs": [],
   "source": [
    "pip install folium "
   ]
  },
  {
   "cell_type": "markdown",
   "id": "5de6c75f",
   "metadata": {},
   "source": [
    "## 1. Importing the required packages"
   ]
  },
  {
   "cell_type": "code",
   "execution_count": 1,
   "id": "ed8031e1",
   "metadata": {},
   "outputs": [],
   "source": [
    "import pandas as pd\n",
    "import numpy as np\n",
    "import matplotlib.pyplot as plt\n",
    "import seaborn as sns\n",
    "import folium"
   ]
  },
  {
   "cell_type": "markdown",
   "id": "0769e5b7",
   "metadata": {},
   "source": [
    "## 2. Reading data "
   ]
  },
  {
   "cell_type": "code",
   "execution_count": 2,
   "id": "3a8e01e3",
   "metadata": {},
   "outputs": [],
   "source": [
    "from pandas import read_csv\n",
    "crimes = pd.read_csv(r\"C:\\Users\\91970\\Downloads\\SacramentocrimeJanuary2006.csv\")"
   ]
  },
  {
   "cell_type": "markdown",
   "id": "9ddf8508",
   "metadata": {},
   "source": [
    "## 3. Source location"
   ]
  },
  {
   "cell_type": "code",
   "execution_count": 3,
   "id": "5edc9258",
   "metadata": {},
   "outputs": [],
   "source": [
    "#Source Location - List of links provided in blackboard. Imported it as Csv https://support.spatialkey.com/spatialkey-sample-csv-data/"
   ]
  },
  {
   "cell_type": "markdown",
   "id": "ca7d1633",
   "metadata": {},
   "source": [
    "## 4. Exploratory Data Analysis"
   ]
  },
  {
   "cell_type": "markdown",
   "id": "341984ae",
   "metadata": {},
   "source": [
    "### 4.1 General Information about Data"
   ]
  },
  {
   "cell_type": "code",
   "execution_count": 4,
   "id": "b5ce1166",
   "metadata": {},
   "outputs": [
    {
     "data": {
      "text/html": [
       "<div>\n",
       "<style scoped>\n",
       "    .dataframe tbody tr th:only-of-type {\n",
       "        vertical-align: middle;\n",
       "    }\n",
       "\n",
       "    .dataframe tbody tr th {\n",
       "        vertical-align: top;\n",
       "    }\n",
       "\n",
       "    .dataframe thead th {\n",
       "        text-align: right;\n",
       "    }\n",
       "</style>\n",
       "<table border=\"1\" class=\"dataframe\">\n",
       "  <thead>\n",
       "    <tr style=\"text-align: right;\">\n",
       "      <th></th>\n",
       "      <th>cdatetime</th>\n",
       "      <th>address</th>\n",
       "      <th>district</th>\n",
       "      <th>beat</th>\n",
       "      <th>grid</th>\n",
       "      <th>crimedescr</th>\n",
       "      <th>ucr_ncic_code</th>\n",
       "      <th>latitude</th>\n",
       "      <th>longitude</th>\n",
       "    </tr>\n",
       "  </thead>\n",
       "  <tbody>\n",
       "    <tr>\n",
       "      <th>0</th>\n",
       "      <td>1/1/06 0:00</td>\n",
       "      <td>3108 OCCIDENTAL DR</td>\n",
       "      <td>3</td>\n",
       "      <td>3C</td>\n",
       "      <td>1115</td>\n",
       "      <td>10851(A)VC TAKE VEH W/O OWNER</td>\n",
       "      <td>2404</td>\n",
       "      <td>38.550420</td>\n",
       "      <td>-121.391416</td>\n",
       "    </tr>\n",
       "    <tr>\n",
       "      <th>1</th>\n",
       "      <td>1/1/06 0:00</td>\n",
       "      <td>2082 EXPEDITION WAY</td>\n",
       "      <td>5</td>\n",
       "      <td>5A</td>\n",
       "      <td>1512</td>\n",
       "      <td>459 PC  BURGLARY RESIDENCE</td>\n",
       "      <td>2204</td>\n",
       "      <td>38.473501</td>\n",
       "      <td>-121.490186</td>\n",
       "    </tr>\n",
       "    <tr>\n",
       "      <th>2</th>\n",
       "      <td>1/1/06 0:00</td>\n",
       "      <td>4 PALEN CT</td>\n",
       "      <td>2</td>\n",
       "      <td>2A</td>\n",
       "      <td>212</td>\n",
       "      <td>10851(A)VC TAKE VEH W/O OWNER</td>\n",
       "      <td>2404</td>\n",
       "      <td>38.657846</td>\n",
       "      <td>-121.462101</td>\n",
       "    </tr>\n",
       "    <tr>\n",
       "      <th>3</th>\n",
       "      <td>1/1/06 0:00</td>\n",
       "      <td>22 BECKFORD CT</td>\n",
       "      <td>6</td>\n",
       "      <td>6C</td>\n",
       "      <td>1443</td>\n",
       "      <td>476 PC PASS FICTICIOUS CHECK</td>\n",
       "      <td>2501</td>\n",
       "      <td>38.506774</td>\n",
       "      <td>-121.426951</td>\n",
       "    </tr>\n",
       "    <tr>\n",
       "      <th>4</th>\n",
       "      <td>1/1/06 0:00</td>\n",
       "      <td>3421 AUBURN BLVD</td>\n",
       "      <td>2</td>\n",
       "      <td>2A</td>\n",
       "      <td>508</td>\n",
       "      <td>459 PC  BURGLARY-UNSPECIFIED</td>\n",
       "      <td>2299</td>\n",
       "      <td>38.637448</td>\n",
       "      <td>-121.384613</td>\n",
       "    </tr>\n",
       "  </tbody>\n",
       "</table>\n",
       "</div>"
      ],
      "text/plain": [
       "     cdatetime              address  district        beat  grid  \\\n",
       "0  1/1/06 0:00   3108 OCCIDENTAL DR         3  3C          1115   \n",
       "1  1/1/06 0:00  2082 EXPEDITION WAY         5  5A          1512   \n",
       "2  1/1/06 0:00           4 PALEN CT         2  2A           212   \n",
       "3  1/1/06 0:00       22 BECKFORD CT         6  6C          1443   \n",
       "4  1/1/06 0:00     3421 AUBURN BLVD         2  2A           508   \n",
       "\n",
       "                      crimedescr  ucr_ncic_code   latitude   longitude  \n",
       "0  10851(A)VC TAKE VEH W/O OWNER           2404  38.550420 -121.391416  \n",
       "1     459 PC  BURGLARY RESIDENCE           2204  38.473501 -121.490186  \n",
       "2  10851(A)VC TAKE VEH W/O OWNER           2404  38.657846 -121.462101  \n",
       "3   476 PC PASS FICTICIOUS CHECK           2501  38.506774 -121.426951  \n",
       "4   459 PC  BURGLARY-UNSPECIFIED           2299  38.637448 -121.384613  "
      ]
     },
     "execution_count": 4,
     "metadata": {},
     "output_type": "execute_result"
    }
   ],
   "source": [
    "crimes.head()"
   ]
  },
  {
   "cell_type": "code",
   "execution_count": 5,
   "id": "09906eb1",
   "metadata": {},
   "outputs": [
    {
     "data": {
      "text/plain": [
       "(7584, 9)"
      ]
     },
     "execution_count": 5,
     "metadata": {},
     "output_type": "execute_result"
    }
   ],
   "source": [
    "crimes.shape"
   ]
  },
  {
   "cell_type": "code",
   "execution_count": 6,
   "id": "4dc77ff6",
   "metadata": {},
   "outputs": [
    {
     "name": "stdout",
     "output_type": "stream",
     "text": [
      "<class 'pandas.core.frame.DataFrame'>\n",
      "RangeIndex: 7584 entries, 0 to 7583\n",
      "Data columns (total 9 columns):\n",
      " #   Column         Non-Null Count  Dtype  \n",
      "---  ------         --------------  -----  \n",
      " 0   cdatetime      7584 non-null   object \n",
      " 1   address        7584 non-null   object \n",
      " 2   district       7584 non-null   int64  \n",
      " 3   beat           7584 non-null   object \n",
      " 4   grid           7584 non-null   int64  \n",
      " 5   crimedescr     7584 non-null   object \n",
      " 6   ucr_ncic_code  7584 non-null   int64  \n",
      " 7   latitude       7584 non-null   float64\n",
      " 8   longitude      7584 non-null   float64\n",
      "dtypes: float64(2), int64(3), object(4)\n",
      "memory usage: 533.4+ KB\n"
     ]
    }
   ],
   "source": [
    "crimes.info() "
   ]
  },
  {
   "cell_type": "code",
   "execution_count": 7,
   "id": "698cf3c9",
   "metadata": {},
   "outputs": [
    {
     "data": {
      "text/html": [
       "<div>\n",
       "<style scoped>\n",
       "    .dataframe tbody tr th:only-of-type {\n",
       "        vertical-align: middle;\n",
       "    }\n",
       "\n",
       "    .dataframe tbody tr th {\n",
       "        vertical-align: top;\n",
       "    }\n",
       "\n",
       "    .dataframe thead th {\n",
       "        text-align: right;\n",
       "    }\n",
       "</style>\n",
       "<table border=\"1\" class=\"dataframe\">\n",
       "  <thead>\n",
       "    <tr style=\"text-align: right;\">\n",
       "      <th></th>\n",
       "      <th>district</th>\n",
       "      <th>grid</th>\n",
       "      <th>ucr_ncic_code</th>\n",
       "      <th>latitude</th>\n",
       "      <th>longitude</th>\n",
       "    </tr>\n",
       "  </thead>\n",
       "  <tbody>\n",
       "    <tr>\n",
       "      <th>count</th>\n",
       "      <td>7584.000000</td>\n",
       "      <td>7584.000000</td>\n",
       "      <td>7584.000000</td>\n",
       "      <td>7584.000000</td>\n",
       "      <td>7584.000000</td>\n",
       "    </tr>\n",
       "    <tr>\n",
       "      <th>mean</th>\n",
       "      <td>3.574631</td>\n",
       "      <td>916.250791</td>\n",
       "      <td>4275.068829</td>\n",
       "      <td>38.559809</td>\n",
       "      <td>-121.463832</td>\n",
       "    </tr>\n",
       "    <tr>\n",
       "      <th>std</th>\n",
       "      <td>1.642512</td>\n",
       "      <td>407.436310</td>\n",
       "      <td>2171.593193</td>\n",
       "      <td>0.056101</td>\n",
       "      <td>0.034621</td>\n",
       "    </tr>\n",
       "    <tr>\n",
       "      <th>min</th>\n",
       "      <td>1.000000</td>\n",
       "      <td>102.000000</td>\n",
       "      <td>909.000000</td>\n",
       "      <td>38.437999</td>\n",
       "      <td>-121.555832</td>\n",
       "    </tr>\n",
       "    <tr>\n",
       "      <th>25%</th>\n",
       "      <td>2.000000</td>\n",
       "      <td>567.000000</td>\n",
       "      <td>2309.000000</td>\n",
       "      <td>38.518476</td>\n",
       "      <td>-121.489543</td>\n",
       "    </tr>\n",
       "    <tr>\n",
       "      <th>50%</th>\n",
       "      <td>3.000000</td>\n",
       "      <td>899.000000</td>\n",
       "      <td>3532.000000</td>\n",
       "      <td>38.559523</td>\n",
       "      <td>-121.465459</td>\n",
       "    </tr>\n",
       "    <tr>\n",
       "      <th>75%</th>\n",
       "      <td>5.000000</td>\n",
       "      <td>1264.000000</td>\n",
       "      <td>7000.000000</td>\n",
       "      <td>38.610361</td>\n",
       "      <td>-121.435947</td>\n",
       "    </tr>\n",
       "    <tr>\n",
       "      <th>max</th>\n",
       "      <td>6.000000</td>\n",
       "      <td>1661.000000</td>\n",
       "      <td>8102.000000</td>\n",
       "      <td>38.683789</td>\n",
       "      <td>-121.365238</td>\n",
       "    </tr>\n",
       "  </tbody>\n",
       "</table>\n",
       "</div>"
      ],
      "text/plain": [
       "          district         grid  ucr_ncic_code     latitude    longitude\n",
       "count  7584.000000  7584.000000    7584.000000  7584.000000  7584.000000\n",
       "mean      3.574631   916.250791    4275.068829    38.559809  -121.463832\n",
       "std       1.642512   407.436310    2171.593193     0.056101     0.034621\n",
       "min       1.000000   102.000000     909.000000    38.437999  -121.555832\n",
       "25%       2.000000   567.000000    2309.000000    38.518476  -121.489543\n",
       "50%       3.000000   899.000000    3532.000000    38.559523  -121.465459\n",
       "75%       5.000000  1264.000000    7000.000000    38.610361  -121.435947\n",
       "max       6.000000  1661.000000    8102.000000    38.683789  -121.365238"
      ]
     },
     "execution_count": 7,
     "metadata": {},
     "output_type": "execute_result"
    }
   ],
   "source": [
    "crimes.describe() "
   ]
  },
  {
   "cell_type": "markdown",
   "id": "d3358970",
   "metadata": {},
   "source": [
    "### 4.2 Checking for null values"
   ]
  },
  {
   "cell_type": "code",
   "execution_count": 8,
   "id": "72d065cc",
   "metadata": {},
   "outputs": [
    {
     "data": {
      "text/plain": [
       "cdatetime        0\n",
       "address          0\n",
       "district         0\n",
       "beat             0\n",
       "grid             0\n",
       "crimedescr       0\n",
       "ucr_ncic_code    0\n",
       "latitude         0\n",
       "longitude        0\n",
       "dtype: int64"
      ]
     },
     "execution_count": 8,
     "metadata": {},
     "output_type": "execute_result"
    }
   ],
   "source": [
    "missing_values = crimes.isnull().sum()\n",
    "missing_values"
   ]
  },
  {
   "cell_type": "markdown",
   "id": "9bf7208f",
   "metadata": {},
   "source": [
    "<ul>\n",
    "    <li>From the above cell we can identify that there are no NULL Values in our Dataset</li> \n",
    "    <li>We have total 7584 Rows and 9 columns</li> \n",
    "</ul>"
   ]
  },
  {
   "cell_type": "markdown",
   "id": "0f9868e2",
   "metadata": {},
   "source": [
    "## 5. Visaulization"
   ]
  },
  {
   "cell_type": "markdown",
   "id": "d51285ba",
   "metadata": {},
   "source": [
    "### 5.1 Crimes occurring in a month"
   ]
  },
  {
   "cell_type": "code",
   "execution_count": 9,
   "id": "b375caff",
   "metadata": {},
   "outputs": [
    {
     "data": {
      "image/png": "[encoded data removed]",
      "text/plain": [
       "<Figure size 500x300 with 1 Axes>"
      ]
     },
     "metadata": {},
     "output_type": "display_data"
    }
   ],
   "source": [
    "plt.figure(figsize = (5,3))\n",
    "\n",
    "crimes['cdatetime'] = pd.to_datetime(crimes['cdatetime'])  # Convert to DateTime-like object\n",
    "\n",
    "#Creating a new column for month name\n",
    "crimes['Month_Name'] = crimes['cdatetime'].dt.month_name()\n",
    "# Group by month name and get the count of crimes\n",
    "day_name_counts = crimes['Month_Name'].value_counts()\n",
    "\n",
    "# Plot the data\n",
    "day_name_counts.plot(kind='bar')\n",
    "plt.title('Crimes by month')\n",
    "plt.xlabel('Month')\n",
    "plt.ylabel('Number of Crimes')\n",
    "plt.show()"
   ]
  },
  {
   "cell_type": "markdown",
   "id": "00a01958",
   "metadata": {},
   "source": [
    "### 5.2 Weekly analysis"
   ]
  },
  {
   "cell_type": "code",
   "execution_count": 10,
   "id": "9f3dbbf0",
   "metadata": {},
   "outputs": [
    {
     "name": "stdout",
     "output_type": "stream",
     "text": [
      "Tuesday      1304\n",
      "Monday       1112\n",
      "Wednesday    1112\n",
      "Friday       1058\n",
      "Thursday     1053\n",
      "Sunday       1032\n",
      "Saturday      913\n",
      "Name: Day_Name, dtype: int64\n"
     ]
    },
    {
     "data": {
      "image/png": "[encoded data removed]",
      "text/plain": [
       "<Figure size 640x480 with 1 Axes>"
      ]
     },
     "metadata": {},
     "output_type": "display_data"
    }
   ],
   "source": [
    "# Create a new column 'Day_Name' containing day names\n",
    "crimes['Day_Name'] = crimes['cdatetime'].dt.day_name()\n",
    "# Group by day name and get the count of crimes\n",
    "day_name_counts = crimes['Day_Name'].value_counts()\n",
    "print(day_name_counts)\n",
    "# Plot the data\n",
    "day_name_counts.plot(kind='bar')\n",
    "plt.title('Crimes by Day of the Week')\n",
    "plt.xlabel('Day of the Week')\n",
    "plt.ylabel('Number of Crimes')\n",
    "plt.show()"
   ]
  },
  {
   "cell_type": "markdown",
   "id": "ecd590ce",
   "metadata": {},
   "source": [
    "### 5.3 Hourly crime analysis"
   ]
  },
  {
   "cell_type": "code",
   "execution_count": 11,
   "id": "1b889bba",
   "metadata": {},
   "outputs": [
    {
     "data": {
      "image/png": "[encoded data removed]",
      "text/plain": [
       "<Figure size 640x480 with 1 Axes>"
      ]
     },
     "metadata": {},
     "output_type": "display_data"
    }
   ],
   "source": [
    "# Set the 'Date' column as the index\n",
    "crimes.set_index(crimes['cdatetime'], inplace=True)\n",
    "\n",
    "# Group by hour and get the count of crimes\n",
    "hourly_counts = crimes.index.hour.value_counts().sort_index()\n",
    "# Plot the data\n",
    "hourly_counts.plot(kind='bar')\n",
    "plt.title('Crime Per Hour')\n",
    "plt.xlabel('Hour')\n",
    "plt.ylabel('Number of Crimes Acts')\n",
    "plt.show()"
   ]
  },
  {
   "cell_type": "markdown",
   "id": "caf6fa5f",
   "metadata": {},
   "source": [
    "### 5.4 Top 3 areas where mostly crimes are committed"
   ]
  },
  {
   "cell_type": "code",
   "execution_count": 12,
   "id": "3a200b18",
   "metadata": {},
   "outputs": [
    {
     "data": {
      "text/html": [
       "<div style=\"width:100%;\"><div style=\"position:relative;width:100%;height:0;padding-bottom:60%;\"><span style=\"color:#565656\">Make this Notebook Trusted to load map: File -> Trust Notebook</span><iframe srcdoc=\"&lt;!DOCTYPE html&gt;\n",
       "&lt;html&gt;\n",
       "&lt;head&gt;\n",
       "    \n",
       "    &lt;meta http-equiv=&quot;content-type&quot; content=&quot;text/html; charset=UTF-8&quot; /&gt;\n",
       "    \n",
       "        &lt;script&gt;\n",
       "            L_NO_TOUCH = false;\n",
       "            L_DISABLE_3D = false;\n",
       "        &lt;/script&gt;\n",
       "    \n",
       "    &lt;style&gt;html, body {width: 100%;height: 100%;margin: 0;padding: 0;}&lt;/style&gt;\n",
       "    &lt;style&gt;#map {position:absolute;top:0;bottom:0;right:0;left:0;}&lt;/style&gt;\n",
       "    &lt;script src=&quot;https://cdn.jsdelivr.net/npm/leaflet@1.9.3/dist/leaflet.js&quot;&gt;&lt;/script&gt;\n",
       "    &lt;script src=&quot;https://code.jquery.com/jquery-1.12.4.min.js&quot;&gt;&lt;/script&gt;\n",
       "    &lt;script src=&quot;https://cdn.jsdelivr.net/npm/bootstrap@5.2.2/dist/js/bootstrap.bundle.min.js&quot;&gt;&lt;/script&gt;\n",
       "    &lt;script src=&quot;https://cdnjs.cloudflare.com/ajax/libs/Leaflet.awesome-markers/2.0.2/leaflet.awesome-markers.js&quot;&gt;&lt;/script&gt;\n",
       "    &lt;link rel=&quot;stylesheet&quot; href=&quot;https://cdn.jsdelivr.net/npm/leaflet@1.9.3/dist/leaflet.css&quot;/&gt;\n",
       "    &lt;link rel=&quot;stylesheet&quot; href=&quot;https://cdn.jsdelivr.net/npm/bootstrap@5.2.2/dist/css/bootstrap.min.css&quot;/&gt;\n",
       "    &lt;link rel=&quot;stylesheet&quot; href=&quot;https://netdna.bootstrapcdn.com/bootstrap/3.0.0/css/bootstrap.min.css&quot;/&gt;\n",
       "    &lt;link rel=&quot;stylesheet&quot; href=&quot;https://cdn.jsdelivr.net/npm/@fortawesome/fontawesome-free@6.2.0/css/all.min.css&quot;/&gt;\n",
       "    &lt;link rel=&quot;stylesheet&quot; href=&quot;https://cdnjs.cloudflare.com/ajax/libs/Leaflet.awesome-markers/2.0.2/leaflet.awesome-markers.css&quot;/&gt;\n",
       "    &lt;link rel=&quot;stylesheet&quot; href=&quot;https://cdn.jsdelivr.net/gh/python-visualization/folium/folium/templates/leaflet.awesome.rotate.min.css&quot;/&gt;\n",
       "    \n",
       "            &lt;meta name=&quot;viewport&quot; content=&quot;width=device-width,\n",
       "                initial-scale=1.0, maximum-scale=1.0, user-scalable=no&quot; /&gt;\n",
       "            &lt;style&gt;\n",
       "                #map_a89cabc857371d46c7753994ff8c91e4 {\n",
       "                    position: relative;\n",
       "                    width: 100.0%;\n",
       "                    height: 100.0%;\n",
       "                    left: 0.0%;\n",
       "                    top: 0.0%;\n",
       "                }\n",
       "                .leaflet-container { font-size: 1rem; }\n",
       "            &lt;/style&gt;\n",
       "        \n",
       "&lt;/head&gt;\n",
       "&lt;body&gt;\n",
       "    \n",
       "    \n",
       "            &lt;div class=&quot;folium-map&quot; id=&quot;map_a89cabc857371d46c7753994ff8c91e4&quot; &gt;&lt;/div&gt;\n",
       "        \n",
       "&lt;/body&gt;\n",
       "&lt;script&gt;\n",
       "    \n",
       "    \n",
       "            var map_a89cabc857371d46c7753994ff8c91e4 = L.map(\n",
       "                &quot;map_a89cabc857371d46c7753994ff8c91e4&quot;,\n",
       "                {\n",
       "                    center: [38.58738824, -121.43601489999999],\n",
       "                    crs: L.CRS.EPSG3857,\n",
       "                    zoom: 10,\n",
       "                    zoomControl: true,\n",
       "                    preferCanvas: false,\n",
       "                }\n",
       "            );\n",
       "\n",
       "            \n",
       "\n",
       "        \n",
       "    \n",
       "            var tile_layer_ad5ec6f380f0ca8197cb7f1e3166e354 = L.tileLayer(\n",
       "                &quot;https://{s}.tile.openstreetmap.org/{z}/{x}/{y}.png&quot;,\n",
       "                {&quot;attribution&quot;: &quot;Data by \\u0026copy; \\u003ca target=\\&quot;_blank\\&quot; href=\\&quot;http://openstreetmap.org\\&quot;\\u003eOpenStreetMap\\u003c/a\\u003e, under \\u003ca target=\\&quot;_blank\\&quot; href=\\&quot;http://www.openstreetmap.org/copyright\\&quot;\\u003eODbL\\u003c/a\\u003e.&quot;, &quot;detectRetina&quot;: false, &quot;maxNativeZoom&quot;: 18, &quot;maxZoom&quot;: 18, &quot;minZoom&quot;: 0, &quot;noWrap&quot;: false, &quot;opacity&quot;: 1, &quot;subdomains&quot;: &quot;abc&quot;, &quot;tms&quot;: false}\n",
       "            ).addTo(map_a89cabc857371d46c7753994ff8c91e4);\n",
       "        \n",
       "    \n",
       "            var marker_b0d194fcfeea8628d166cbdbfe013cf9 = L.marker(\n",
       "                [38.63862878, -121.3815598],\n",
       "                {}\n",
       "            ).addTo(map_a89cabc857371d46c7753994ff8c91e4);\n",
       "        \n",
       "    \n",
       "        var popup_e90c864f87f19b8f1be17802de7436d4 = L.popup({&quot;maxWidth&quot;: &quot;100%&quot;});\n",
       "\n",
       "        \n",
       "            \n",
       "                var html_5017a7138ca0d7e9651c951d4154c96e = $(`&lt;div id=&quot;html_5017a7138ca0d7e9651c951d4154c96e&quot; style=&quot;width: 100.0%; height: 100.0%;&quot;&gt;Crime Count: 47.0&lt;/div&gt;`)[0];\n",
       "                popup_e90c864f87f19b8f1be17802de7436d4.setContent(html_5017a7138ca0d7e9651c951d4154c96e);\n",
       "            \n",
       "        \n",
       "\n",
       "        marker_b0d194fcfeea8628d166cbdbfe013cf9.bindPopup(popup_e90c864f87f19b8f1be17802de7436d4)\n",
       "        ;\n",
       "\n",
       "        \n",
       "    \n",
       "    \n",
       "            var marker_2222813cdfbe84924975871e6d6940ab = L.marker(\n",
       "                [38.52199137, -121.4990149],\n",
       "                {}\n",
       "            ).addTo(map_a89cabc857371d46c7753994ff8c91e4);\n",
       "        \n",
       "    \n",
       "        var popup_23f211be9746c748ab9fcc646028e402 = L.popup({&quot;maxWidth&quot;: &quot;100%&quot;});\n",
       "\n",
       "        \n",
       "            \n",
       "                var html_c6767c6e1a71e5bf10ba3789c1c6bb66 = $(`&lt;div id=&quot;html_c6767c6e1a71e5bf10ba3789c1c6bb66&quot; style=&quot;width: 100.0%; height: 100.0%;&quot;&gt;Crime Count: 29.0&lt;/div&gt;`)[0];\n",
       "                popup_23f211be9746c748ab9fcc646028e402.setContent(html_c6767c6e1a71e5bf10ba3789c1c6bb66);\n",
       "            \n",
       "        \n",
       "\n",
       "        marker_2222813cdfbe84924975871e6d6940ab.bindPopup(popup_23f211be9746c748ab9fcc646028e402)\n",
       "        ;\n",
       "\n",
       "        \n",
       "    \n",
       "    \n",
       "            var marker_8312fa13c6b13888ebed6e4297a164e4 = L.marker(\n",
       "                [38.60154457, -121.42747],\n",
       "                {}\n",
       "            ).addTo(map_a89cabc857371d46c7753994ff8c91e4);\n",
       "        \n",
       "    \n",
       "        var popup_e7f37cadeb2395d6efcf881be4585b94 = L.popup({&quot;maxWidth&quot;: &quot;100%&quot;});\n",
       "\n",
       "        \n",
       "            \n",
       "                var html_c880d8ff7dc7139edd97e51db28b1320 = $(`&lt;div id=&quot;html_c880d8ff7dc7139edd97e51db28b1320&quot; style=&quot;width: 100.0%; height: 100.0%;&quot;&gt;Crime Count: 28.0&lt;/div&gt;`)[0];\n",
       "                popup_e7f37cadeb2395d6efcf881be4585b94.setContent(html_c880d8ff7dc7139edd97e51db28b1320);\n",
       "            \n",
       "        \n",
       "\n",
       "        marker_8312fa13c6b13888ebed6e4297a164e4.bindPopup(popup_e7f37cadeb2395d6efcf881be4585b94)\n",
       "        ;\n",
       "\n",
       "        \n",
       "    \n",
       "&lt;/script&gt;\n",
       "&lt;/html&gt;\" style=\"position:absolute;width:100%;height:100%;left:0;top:0;border:none !important;\" allowfullscreen webkitallowfullscreen mozallowfullscreen></iframe></div></div>"
      ],
      "text/plain": [
       "<folium.folium.Map at 0x2318ee57210>"
      ]
     },
     "execution_count": 12,
     "metadata": {},
     "output_type": "execute_result"
    }
   ],
   "source": [
    "location_counts = crimes.groupby(['latitude', 'longitude']).size().reset_index(name='crime_count')\n",
    "top_locations = location_counts.sort_values(by='crime_count', ascending=False)\n",
    "top_3_locations = top_locations.head(3)\n",
    "# Convert the DataFrame to a key-value dictionary\n",
    "latitude_dict = {'latitude': list(top_3_locations['latitude'])}\n",
    "longitude_dict = {'longitude': list(top_3_locations['longitude'])}\n",
    "crime_count_dict = {'crime_count': list(top_3_locations['crime_count'])}\n",
    "# Create a base map\n",
    "m = folium.Map(location=[top_3_locations['latitude'].mean(), top_3_locations['longitude'].mean()], zoom_start=10)\n",
    "\n",
    "# Add markers for the top 3 locations\n",
    "for index, row in top_3_locations.iterrows():\n",
    "    folium.Marker(\n",
    "        location=[row['latitude'], row['longitude']],\n",
    "        popup=f\"Crime Count: {row['crime_count']}\",\n",
    "    ).add_to(m)\n",
    "# Display the map\n",
    "m"
   ]
  },
  {
   "cell_type": "markdown",
   "id": "24d95045",
   "metadata": {},
   "source": [
    "### 5.5 What are the most common crimes that are committed."
   ]
  },
  {
   "cell_type": "code",
   "execution_count": 13,
   "id": "8c427c55",
   "metadata": {},
   "outputs": [
    {
     "name": "stdout",
     "output_type": "stream",
     "text": [
      "10851(A)VC TAKE VEH W/O OWNER    653\n",
      "TOWED/STORED VEH-14602.6         463\n",
      "459 PC  BURGLARY VEHICLE         462\n",
      "Name: crimedescr, dtype: int64\n"
     ]
    },
    {
     "data": {
      "image/png": "[encoded data removed]",
      "text/plain": [
       "<Figure size 1000x500 with 1 Axes>"
      ]
     },
     "metadata": {},
     "output_type": "display_data"
    }
   ],
   "source": [
    "crime_counts = crimes['crimedescr'].value_counts() #counting the occurences of crimedescr \n",
    "top_3_crimes = crime_counts.head(3)\n",
    "print(top_3_crimes)\n",
    "#plot the data\n",
    "plt.figure(figsize=(10, 5))\n",
    "sns.barplot(x=top_3_crimes.index, y=top_3_crimes.values)\n",
    "plt.title('Top 3 Committed Crimes')\n",
    "plt.xlabel('Crime Type')\n",
    "plt.ylabel('Number of Occurrences')\n",
    "plt.show()"
   ]
  },
  {
   "cell_type": "markdown",
   "id": "8decb72a",
   "metadata": {},
   "source": [
    "### 5.6 District division of crimes which are committed"
   ]
  },
  {
   "cell_type": "code",
   "execution_count": 14,
   "id": "195100a8",
   "metadata": {},
   "outputs": [
    {
     "name": "stdout",
     "output_type": "stream",
     "text": [
      "3    1575\n",
      "2    1462\n",
      "6    1359\n",
      "4    1161\n",
      "5    1159\n",
      "1     868\n",
      "Name: district, dtype: int64\n"
     ]
    },
    {
     "data": {
      "image/png": "[encoded data removed]",
      "text/plain": [
       "<Figure size 1000x600 with 1 Axes>"
      ]
     },
     "metadata": {},
     "output_type": "display_data"
    }
   ],
   "source": [
    "district_crime_counts = crimes['district'].value_counts()\n",
    "print(district_crime_counts)\n",
    "# Sort the districts by crime counts in descending order (highest to lowest)\n",
    "district_crime_counts = district_crime_counts.sort_values(ascending=False)\n",
    "\n",
    "# Create a bar chart to visualize the districts with the highest and lowest crime rates\n",
    "plt.figure(figsize=(10, 6))\n",
    "district_crime_counts.plot(kind='bar')\n",
    "plt.title('Crime Rates by District')\n",
    "plt.xlabel('District')\n",
    "plt.ylabel('Number of Crimes')\n",
    "plt.show()"
   ]
  },
  {
   "cell_type": "code",
   "execution_count": null,
   "id": "0ac6403d",
   "metadata": {},
   "outputs": [],
   "source": []
  }
 ],
 "metadata": {
  "kernelspec": {
   "display_name": "Python 3 (ipykernel)",
   "language": "python",
   "name": "python3"
  },
  "language_info": {
   "codemirror_mode": {
    "name": "ipython",
    "version": 3
   },
   "file_extension": ".py",
   "mimetype": "text/x-python",
   "name": "python",
   "nbconvert_exporter": "python",
   "pygments_lexer": "ipython3",
   "version": "3.11.4"
  }
 },
 "nbformat": 4,
 "nbformat_minor": 5
}
